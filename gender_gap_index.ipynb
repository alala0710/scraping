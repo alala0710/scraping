{
  "nbformat": 4,
  "nbformat_minor": 0,
  "metadata": {
    "colab": {
      "name": "gender_gap_index",
      "version": "0.3.2",
      "provenance": [],
      "include_colab_link": true
    },
    "kernelspec": {
      "name": "python3",
      "display_name": "Python 3"
    }
  },
  "cells": [
    {
      "cell_type": "markdown",
      "metadata": {
        "id": "view-in-github",
        "colab_type": "text"
      },
      "source": [
        "<a href=\"https://colab.research.google.com/github/alala0710/scraping/blob/master/gender_gap_index.ipynb\" target=\"_parent\"><img src=\"https://colab.research.google.com/assets/colab-badge.svg\" alt=\"Open In Colab\"/></a>"
      ]
    },
    {
      "metadata": {
        "id": "BrRv15gAViPv",
        "colab_type": "code",
        "colab": {}
      },
      "cell_type": "code",
      "source": [
        "#①wikipediaから引っ張る場合\n",
        "import pandas as pd\n",
        "WIKI_URL  = \"https://ja.wikipedia.org/wiki/%E4%B8%96%E7%95%8C%E7%94%B7%E5%A5%B3%E6%A0%BC%E5%B7%AE%E6%8C%87%E6%95%B0\"\n",
        "dfs = pd.read_html(WIKI_URL, header=0) # set header with row #0"
      ],
      "execution_count": 0,
      "outputs": []
    },
    {
      "metadata": {
        "id": "cR6KQD4YXEqg",
        "colab_type": "code",
        "colab": {}
      },
      "cell_type": "code",
      "source": [
        "#②資料から読む場合：ファイルアップロード\n",
        "from google.colab import files\n",
        "files = files.upload()"
      ],
      "execution_count": 0,
      "outputs": []
    },
    {
      "metadata": {
        "id": "BRCr8dL6cxsw",
        "colab_type": "code",
        "colab": {}
      },
      "cell_type": "code",
      "source": [
        "#分割するPDFを読み込み\n",
        "!pip install pypdf2\n",
        "import PyPDF2\n",
        "source_pdf = open('hoge.pdf', 'rb')\n",
        "source = PyPDF2.PdfFileReader(source_pdf, strict=False)"
      ],
      "execution_count": 0,
      "outputs": []
    },
    {
      "metadata": {
        "id": "CL7sGa54c-88",
        "colab_type": "code",
        "colab": {}
      },
      "cell_type": "code",
      "source": [
        "#取り出したいページを指定（18-22ページだった場合）\n",
        "output = PyPDF2.PdfFileWriter()\n",
        "output.addPage(source.getPage(17))\n",
        "output.addPage(source.getPage(18))\n",
        "output.addPage(source.getPage(19))\n",
        "output.addPage(source.getPage(20))\n",
        "output.addPage(source.getPage(21))\n",
        "output_pdf = open('output_pdf.pdf', 'wb')\n",
        "output.write(output_pdf)\n",
        "output_pdf.close()"
      ],
      "execution_count": 0,
      "outputs": []
    },
    {
      "metadata": {
        "id": "IWbwdlB1dZzB",
        "colab_type": "code",
        "colab": {}
      },
      "cell_type": "code",
      "source": [
        "#（オプション）分割したPDFをダウンロード\n",
        "from google.colab import files\n",
        "files.download('output_pdf.pdf')"
      ],
      "execution_count": 0,
      "outputs": []
    },
    {
      "metadata": {
        "id": "ghOrlww9Z398",
        "colab_type": "code",
        "colab": {}
      },
      "cell_type": "code",
      "source": [
        "#tabluaで表を切り取る（うまくいかず）\n",
        "!pip install tabula-py\n",
        "from tabula import read_pdf\n",
        "df = read_pdf('output_pdf.pdf', pages=\"all\",multiple_tables=True)"
      ],
      "execution_count": 0,
      "outputs": []
    },
    {
      "metadata": {
        "id": "TljCvLz1vK4t",
        "colab_type": "code",
        "colab": {}
      },
      "cell_type": "code",
      "source": [
        "#pdftablesで表を切り取る（無料だと５０枚制限あり）\n",
        "!pip install git+https://github.com/pdftables/python-pdftables-api.git\n",
        "import pdftables_api\n",
        "\n",
        "c = pdftables_api.Client('hoge')\n",
        "c.xlsx('output_pdf.pdf', 'output.xlsx')"
      ],
      "execution_count": 0,
      "outputs": []
    },
    {
      "metadata": {
        "id": "q8rzEmUAvqL6",
        "colab_type": "code",
        "colab": {}
      },
      "cell_type": "code",
      "source": [
        "#エクセルをダウンロード\n",
        "from google.colab import files\n",
        "files.download('output.xlsx')"
      ],
      "execution_count": 0,
      "outputs": []
    }
  ]
}